{
 "cells": [
  {
   "cell_type": "markdown",
   "metadata": {},
   "source": [
    "# Capstone Project: Age-Classfication Image Analysis"
   ]
  },
  {
   "cell_type": "markdown",
   "metadata": {},
   "source": [
    "## 1. Problem Statement\n",
    "\n",
    "Deep Learning is the foundation through which many breakthroughs are founded upon. One of it's biggest applications is in image anaylysis. Deep Learning has enabled many popular commercial features such as [Face ID](https://towardsdatascience.com/how-i-implemented-iphone-xs-faceid-using-deep-learning-in-python-d5dbaa128e1d) in the current iPhones, [portrait photography](https://ai.googleblog.com/2020/12/portrait-light-enhancing-portrait.html), and so on.\n",
    "\n",
    "For this project, we will be looking into a simpler task: by using Deep Learning, we will train a model to identify the age of a person simply by analysing an image of their face.\n",
    "This model can be applied to tackle many different tasks, such as:\n",
    "\n",
    "- Sorting through a large collection of Family photos\n",
    "- Analysing customer demographic of businesses (cafes/restaurants, tourist avenues)\n",
    "- Health and Fitness tracking"
   ]
  },
  {
   "cell_type": "markdown",
   "metadata": {},
   "source": [
    "## 2. Datasets\n",
    "\n",
    "In order to train our model, we will need a large dataset of facial images that have been tagged with their respective ages. Thankfully, there exists a widely used dataset called [UTKFace](https://susanqq.github.io/UTKFace/), which is am extensive face dataset with images of people ranging from 1 to 116 years old. It consists of 20 0000 images, with their [corresponding details](https://www.kaggle.com/nipunarora8/age-gender-and-ethnicity-face-data-csv) of age, gender, and ethnicity noted as well."
   ]
  },
  {
   "cell_type": "markdown",
   "metadata": {},
   "source": [
    "## 3. Exploratory Data Analysis\n",
    "\n",
    "We will first look through and analyse data to look for any missing/incomplete data points, as well as any outliers or imbalanced distributions"
   ]
  },
  {
   "cell_type": "code",
   "execution_count": 1,
   "metadata": {},
   "outputs": [],
   "source": [
    "#Basic data analysis and coding imports\n",
    "\n",
    "import pandas as pd\n",
    "import numpy as np\n",
    "\n",
    "import random\n",
    "import os\n",
    "import pathlib\n",
    "import glob"
   ]
  },
  {
   "cell_type": "code",
   "execution_count": 2,
   "metadata": {},
   "outputs": [],
   "source": [
    "#Imaging and data visualisation imports\n",
    "\n",
    "import PIL.Image as Image\n",
    "import matplotlib.pyplot as plt\n",
    "import seaborn as sns"
   ]
  },
  {
   "cell_type": "code",
   "execution_count": 3,
   "metadata": {},
   "outputs": [],
   "source": [
    "#tensorflow imports for Deep Learning\n",
    "\n",
    "import tensorflow as tf\n",
    "from tensorflow import keras\n",
    "from tensorflow.keras import layers\n",
    "\n",
    "from tensorflow.python.keras.preprocessing import image"
   ]
  },
  {
   "cell_type": "code",
   "execution_count": 4,
   "metadata": {},
   "outputs": [],
   "source": [
    "#Setting defaults for all data visualisation\n",
    "\n",
    "font = {'family' : 'sans-serif',\n",
    "        'weight' : 'regular',\n",
    "        'size'   : 12}\n",
    "\n",
    "plt.rc('font', **font)"
   ]
  },
  {
   "cell_type": "code",
   "execution_count": 5,
   "metadata": {},
   "outputs": [],
   "source": [
    "data_url = 'https://www.dropbox.com/s/d0tzd4uh58iyb5k/age_gender.csv?dl=1'"
   ]
  },
  {
   "cell_type": "code",
   "execution_count": 6,
   "metadata": {},
   "outputs": [],
   "source": [
    "data_dir = tf.keras.utils.get_file(origin=data_url, \n",
    "                                   fname='age_gender.csv')\n",
    "\n",
    "data_dir = pathlib.Path(data_dir)"
   ]
  },
  {
   "cell_type": "code",
   "execution_count": 7,
   "metadata": {},
   "outputs": [
    {
     "data": {
      "text/plain": [
       "PosixPath('/Users/ahmadzainichia/.keras/datasets/age_gender.csv')"
      ]
     },
     "execution_count": 7,
     "metadata": {},
     "output_type": "execute_result"
    }
   ],
   "source": [
    "data_dir"
   ]
  },
  {
   "cell_type": "code",
   "execution_count": 8,
   "metadata": {},
   "outputs": [],
   "source": [
    "face_data = pd.read_csv(data_dir)"
   ]
  },
  {
   "cell_type": "code",
   "execution_count": 9,
   "metadata": {},
   "outputs": [
    {
     "data": {
      "text/html": [
       "<div>\n",
       "<style scoped>\n",
       "    .dataframe tbody tr th:only-of-type {\n",
       "        vertical-align: middle;\n",
       "    }\n",
       "\n",
       "    .dataframe tbody tr th {\n",
       "        vertical-align: top;\n",
       "    }\n",
       "\n",
       "    .dataframe thead th {\n",
       "        text-align: right;\n",
       "    }\n",
       "</style>\n",
       "<table border=\"1\" class=\"dataframe\">\n",
       "  <thead>\n",
       "    <tr style=\"text-align: right;\">\n",
       "      <th></th>\n",
       "      <th>age</th>\n",
       "      <th>ethnicity</th>\n",
       "      <th>gender</th>\n",
       "      <th>img_name</th>\n",
       "      <th>pixels</th>\n",
       "    </tr>\n",
       "  </thead>\n",
       "  <tbody>\n",
       "    <tr>\n",
       "      <th>0</th>\n",
       "      <td>1</td>\n",
       "      <td>2</td>\n",
       "      <td>0</td>\n",
       "      <td>20161219203650636.jpg.chip.jpg</td>\n",
       "      <td>129 128 128 126 127 130 133 135 139 142 145 14...</td>\n",
       "    </tr>\n",
       "    <tr>\n",
       "      <th>1</th>\n",
       "      <td>1</td>\n",
       "      <td>2</td>\n",
       "      <td>0</td>\n",
       "      <td>20161219222752047.jpg.chip.jpg</td>\n",
       "      <td>164 74 111 168 169 171 175 182 184 188 193 199...</td>\n",
       "    </tr>\n",
       "    <tr>\n",
       "      <th>2</th>\n",
       "      <td>1</td>\n",
       "      <td>2</td>\n",
       "      <td>0</td>\n",
       "      <td>20161219222832191.jpg.chip.jpg</td>\n",
       "      <td>67 70 71 70 69 67 70 79 90 103 116 132 145 155...</td>\n",
       "    </tr>\n",
       "    <tr>\n",
       "      <th>3</th>\n",
       "      <td>1</td>\n",
       "      <td>2</td>\n",
       "      <td>0</td>\n",
       "      <td>20161220144911423.jpg.chip.jpg</td>\n",
       "      <td>193 197 198 200 199 200 202 203 204 205 208 21...</td>\n",
       "    </tr>\n",
       "    <tr>\n",
       "      <th>4</th>\n",
       "      <td>1</td>\n",
       "      <td>2</td>\n",
       "      <td>0</td>\n",
       "      <td>20161220144914327.jpg.chip.jpg</td>\n",
       "      <td>202 205 209 210 209 209 210 211 212 214 218 21...</td>\n",
       "    </tr>\n",
       "  </tbody>\n",
       "</table>\n",
       "</div>"
      ],
      "text/plain": [
       "   age  ethnicity  gender                        img_name  \\\n",
       "0    1          2       0  20161219203650636.jpg.chip.jpg   \n",
       "1    1          2       0  20161219222752047.jpg.chip.jpg   \n",
       "2    1          2       0  20161219222832191.jpg.chip.jpg   \n",
       "3    1          2       0  20161220144911423.jpg.chip.jpg   \n",
       "4    1          2       0  20161220144914327.jpg.chip.jpg   \n",
       "\n",
       "                                              pixels  \n",
       "0  129 128 128 126 127 130 133 135 139 142 145 14...  \n",
       "1  164 74 111 168 169 171 175 182 184 188 193 199...  \n",
       "2  67 70 71 70 69 67 70 79 90 103 116 132 145 155...  \n",
       "3  193 197 198 200 199 200 202 203 204 205 208 21...  \n",
       "4  202 205 209 210 209 209 210 211 212 214 218 21...  "
      ]
     },
     "execution_count": 9,
     "metadata": {},
     "output_type": "execute_result"
    }
   ],
   "source": [
    "face_data.head()"
   ]
  },
  {
   "cell_type": "code",
   "execution_count": 10,
   "metadata": {},
   "outputs": [
    {
     "data": {
      "text/plain": [
       "age           int64\n",
       "ethnicity     int64\n",
       "gender        int64\n",
       "img_name     object\n",
       "pixels       object\n",
       "dtype: object"
      ]
     },
     "execution_count": 10,
     "metadata": {},
     "output_type": "execute_result"
    }
   ],
   "source": [
    "face_data.dtypes"
   ]
  },
  {
   "cell_type": "code",
   "execution_count": 11,
   "metadata": {},
   "outputs": [
    {
     "data": {
      "text/plain": [
       "(23705, 5)"
      ]
     },
     "execution_count": 11,
     "metadata": {},
     "output_type": "execute_result"
    }
   ],
   "source": [
    "face_data.shape"
   ]
  },
  {
   "cell_type": "markdown",
   "metadata": {},
   "source": [
    "The CSV file gives us all the details of the images, including the pixels itself. \n",
    "We could use the pixels to reconstruct the images, but we first need to check the pixel values."
   ]
  },
  {
   "cell_type": "code",
   "execution_count": 12,
   "metadata": {},
   "outputs": [
    {
     "name": "stdout",
     "output_type": "stream",
     "text": [
      "[129, 128, 128, 126, 127, 130, 133, 135, 139, 142, 145, 149, 147, 145, 146, 147, 148, 149, 149, 150, 153, 153, 153, 152, 153, 153, 153, 153, 153, 151, 149, 147, 146, 146, 144, 143, 140, 134, 129, 129, 126, 122, 121, 119, 118, 118, 99, 53, 130, 129, 128, 126, 127, 130, 135, 141, 143, 143, 144, 145, 143, 142, 144, 145, 146, 149, 149, 148, 151, 151, 151, 151, 152, 153, 153, 153, 153, 149, 148, 147, 146, 146, 142, 141, 138, 133, 130, 130, 128, 123, 124, 122, 120, 117, 98, 52, 131, 129, 130, 129, 129, 134, 138, 144, 145, 143, 143, 139, 140, 138, 139, 140, 142, 145, 147, 149, 151, 149, 149, 149, 151, 152, 151, 150, 150, 148, 147, 145, 144, 142, 140, 137, 136, 135, 134, 131, 128, 126, 126, 123, 122, 114, 97, 50, 135, 134, 133, 132, 131, 136, 142, 145, 147, 144, 141, 143, 138, 131, 133, 134, 137, 139, 143, 147, 148, 149, 149, 149, 151, 151, 149, 147, 147, 146, 141, 139, 135, 137, 137, 137, 137, 138, 137, 134, 132, 129, 130, 124, 124, 115, 95, 52, 138, 139, 139, 135, 134, 138, 140, 140, 140, 140, 140, 140, 139, 134, 131, 127, 131, 131, 133, 138, 143, 148, 149, 149, 150, 151, 148, 144, 141, 138, 139, 133, 133, 137, 139, 139, 141, 140, 140, 136, 132, 131, 132, 125, 125, 115, 91, 50, 141, 145, 144, 138, 135, 139, 139, 133, 127, 123, 124, 122, 125, 126, 129, 127, 129, 126, 126, 129, 137, 145, 149, 147, 149, 149, 147, 141, 135, 133, 134, 132, 132, 133, 134, 134, 137, 139, 141, 137, 135, 134, 133, 127, 125, 113, 82, 47, 147, 147, 145, 141, 138, 136, 132, 124, 117, 117, 116, 114, 107, 104, 108, 112, 115, 117, 120, 126, 133, 142, 146, 145, 147, 148, 147, 141, 135, 129, 122, 119, 115, 116, 120, 122, 124, 126, 138, 139, 138, 136, 135, 128, 124, 115, 72, 48, 148, 150, 149, 147, 141, 134, 125, 121, 122, 126, 122, 119, 114, 114, 117, 123, 124, 124, 127, 131, 135, 140, 143, 145, 147, 149, 149, 144, 139, 133, 129, 128, 115, 105, 110, 115, 121, 120, 130, 133, 138, 138, 138, 133, 124, 115, 58, 46, 148, 152, 152, 149, 143, 136, 124, 122, 128, 132, 132, 134, 135, 137, 136, 133, 134, 136, 135, 134, 139, 143, 144, 145, 149, 151, 150, 147, 141, 135, 136, 133, 129, 128, 130, 131, 129, 126, 120, 121, 132, 140, 142, 136, 129, 100, 63, 54, 148, 155, 153, 150, 146, 139, 135, 135, 139, 143, 146, 148, 145, 140, 137, 138, 134, 134, 139, 138, 143, 145, 147, 148, 153, 155, 151, 148, 143, 137, 137, 135, 141, 149, 146, 144, 140, 136, 132, 120, 129, 135, 139, 138, 134, 104, 125, 128, 150, 154, 154, 150, 145, 142, 142, 142, 144, 141, 143, 135, 129, 127, 126, 133, 134, 134, 137, 139, 142, 146, 149, 154, 156, 155, 152, 148, 140, 143, 134, 130, 137, 139, 138, 151, 144, 146, 144, 138, 136, 140, 142, 142, 133, 117, 155, 149, 151, 154, 154, 149, 144, 144, 141, 141, 138, 130, 117, 97, 81, 78, 86, 102, 118, 131, 134, 135, 143, 149, 152, 154, 155, 155, 150, 145, 138, 136, 127, 122, 97, 84, 101, 117, 134, 149, 146, 144, 143, 143, 145, 143, 130, 141, 135, 90, 151, 154, 153, 150, 147, 146, 142, 141, 129, 113, 86, 60, 58, 49, 33, 48, 83, 109, 130, 133, 145, 151, 154, 155, 157, 155, 150, 143, 132, 124, 70, 39, 39, 83, 71, 70, 109, 125, 142, 147, 142, 145, 146, 143, 130, 120, 69, 63, 151, 153, 155, 153, 151, 150, 142, 131, 109, 86, 53, 102, 80, 75, 26, 107, 51, 93, 124, 136, 146, 153, 155, 155, 156, 158, 151, 143, 137, 82, 25, 76, 58, 83, 151, 80, 73, 113, 134, 149, 148, 150, 147, 142, 122, 104, 67, 82, 151, 153, 156, 157, 155, 152, 145, 136, 124, 113, 123, 134, 78, 28, 23, 43, 69, 117, 128, 148, 147, 153, 159, 159, 159, 159, 153, 148, 146, 60, 22, 26, 41, 88, 159, 123, 103, 105, 128, 150, 148, 150, 153, 143, 127, 109, 69, 92, 150, 154, 156, 159, 159, 161, 163, 162, 161, 157, 139, 135, 113, 51, 35, 56, 90, 141, 152, 153, 154, 162, 170, 172, 170, 168, 161, 155, 163, 120, 70, 30, 45, 111, 143, 129, 132, 135, 144, 150, 156, 154, 156, 147, 120, 101, 94, 86, 146, 153, 156, 159, 163, 169, 171, 172, 171, 168, 165, 157, 152, 136, 127, 133, 149, 145, 156, 162, 168, 173, 177, 176, 175, 172, 168, 164, 161, 153, 144, 141, 131, 138, 143, 150, 157, 152, 153, 155, 156, 154, 150, 147, 116, 115, 95, 52, 143, 151, 156, 160, 165, 166, 169, 172, 171, 168, 162, 157, 152, 144, 136, 137, 143, 154, 166, 171, 176, 178, 178, 175, 173, 172, 170, 170, 166, 162, 155, 141, 136, 142, 156, 162, 159, 159, 157, 156, 157, 154, 151, 140, 119, 121, 55, 31, 141, 148, 153, 157, 161, 163, 166, 169, 169, 167, 162, 157, 153, 149, 147, 151, 158, 166, 172, 175, 178, 176, 174, 173, 172, 170, 169, 170, 173, 170, 166, 154, 146, 149, 154, 160, 163, 162, 160, 157, 153, 150, 151, 134, 138, 85, 35, 33, 138, 146, 150, 155, 159, 161, 164, 167, 169, 169, 167, 163, 159, 156, 157, 161, 168, 172, 173, 176, 178, 176, 170, 171, 169, 168, 167, 168, 169, 170, 170, 165, 160, 156, 156, 160, 163, 164, 160, 156, 152, 146, 145, 132, 113, 35, 32, 33, 136, 144, 149, 153, 158, 160, 163, 165, 168, 168, 170, 167, 164, 165, 166, 169, 172, 169, 168, 169, 171, 170, 167, 169, 168, 166, 162, 162, 164, 166, 169, 172, 169, 165, 165, 166, 167, 165, 160, 156, 152, 144, 141, 129, 58, 30, 29, 30, 136, 142, 147, 151, 154, 159, 160, 164, 166, 168, 169, 170, 169, 170, 170, 172, 170, 168, 162, 163, 163, 166, 167, 169, 168, 166, 160, 156, 160, 165, 169, 172, 173, 169, 169, 169, 167, 164, 160, 158, 153, 149, 129, 136, 39, 29, 29, 29, 131, 140, 144, 149, 153, 157, 159, 164, 167, 172, 172, 173, 172, 172, 171, 169, 168, 161, 155, 153, 156, 166, 172, 172, 173, 167, 159, 153, 156, 163, 168, 169, 170, 170, 172, 170, 168, 164, 160, 158, 152, 141, 131, 123, 36, 28, 27, 27, 129, 139, 145, 150, 151, 155, 160, 165, 169, 172, 174, 174, 174, 174, 171, 168, 164, 158, 147, 148, 162, 168, 168, 170, 175, 167, 154, 151, 150, 157, 164, 167, 168, 171, 174, 172, 169, 164, 160, 157, 155, 137, 126, 62, 25, 28, 27, 27, 122, 136, 143, 148, 146, 150, 157, 162, 166, 168, 170, 171, 171, 172, 170, 167, 160, 151, 144, 159, 168, 162, 162, 159, 158, 156, 159, 160, 151, 152, 160, 162, 166, 168, 170, 168, 166, 163, 160, 155, 150, 136, 67, 23, 28, 23, 25, 25, 115, 134, 141, 148, 146, 150, 154, 159, 165, 167, 168, 169, 169, 169, 168, 165, 157, 147, 144, 153, 137, 132, 139, 138, 149, 146, 134, 140, 154, 152, 152, 162, 164, 167, 167, 167, 165, 161, 159, 154, 147, 134, 40, 28, 23, 26, 24, 24, 102, 132, 140, 145, 145, 148, 151, 156, 161, 163, 165, 166, 166, 166, 165, 164, 155, 142, 134, 133, 88, 81, 99, 111, 113, 94, 67, 88, 129, 151, 153, 157, 160, 164, 165, 164, 162, 160, 158, 153, 145, 124, 26, 25, 25, 24, 24, 24, 91, 122, 140, 145, 143, 145, 148, 151, 156, 159, 161, 162, 162, 163, 166, 164, 157, 149, 133, 133, 128, 128, 130, 125, 130, 137, 133, 125, 141, 151, 152, 151, 159, 162, 164, 164, 161, 158, 155, 150, 142, 108, 24, 24, 24, 22, 24, 24, 82, 104, 138, 141, 143, 145, 145, 148, 152, 154, 158, 159, 159, 160, 161, 159, 155, 151, 150, 153, 153, 153, 159, 146, 151, 157, 147, 149, 152, 153, 152, 152, 155, 161, 163, 163, 158, 155, 154, 149, 135, 92, 28, 21, 22, 20, 22, 22, 73, 86, 129, 138, 141, 142, 141, 144, 146, 150, 153, 156, 156, 160, 159, 156, 155, 151, 147, 151, 152, 151, 164, 148, 153, 155, 148, 148, 149, 149, 150, 150, 154, 159, 159, 159, 156, 151, 150, 144, 130, 125, 88, 32, 23, 24, 18, 23, 73, 69, 102, 132, 135, 141, 136, 140, 143, 144, 149, 151, 152, 155, 153, 150, 149, 146, 139, 140, 144, 154, 156, 150, 156, 155, 143, 142, 145, 147, 150, 150, 154, 155, 153, 153, 152, 147, 144, 138, 134, 128, 128, 107, 45, 23, 28, 20, 71, 59, 75, 124, 136, 130, 133, 135, 137, 140, 143, 145, 147, 149, 147, 145, 142, 135, 131, 134, 134, 145, 142, 148, 152, 145, 141, 138, 134, 137, 141, 146, 149, 151, 147, 145, 142, 141, 138, 135, 137, 137, 133, 136, 115, 49, 19, 28, 73, 66, 62, 94, 129, 133, 130, 130, 132, 135, 137, 139, 140, 138, 138, 135, 127, 121, 113, 125, 124, 115, 101, 112, 119, 109, 122, 130, 127, 123, 130, 141, 143, 144, 140, 137, 135, 133, 136, 140, 138, 146, 139, 138, 135, 116, 44, 21, 81, 63, 59, 61, 97, 131, 131, 128, 129, 130, 132, 135, 135, 134, 132, 119, 99, 71, 64, 60, 50, 42, 55, 73, 73, 52, 62, 81, 87, 95, 118, 130, 136, 138, 135, 133, 131, 128, 135, 143, 148, 148, 148, 148, 142, 141, 98, 32, 89, 69, 63, 59, 73, 105, 124, 130, 127, 125, 129, 132, 132, 130, 124, 112, 98, 90, 79, 96, 100, 88, 84, 92, 93, 91, 96, 99, 94, 89, 104, 117, 128, 133, 133, 130, 132, 129, 140, 147, 153, 149, 151, 151, 148, 147, 131, 73, 102, 82, 67, 62, 65, 81, 105, 119, 124, 123, 126, 127, 125, 121, 121, 123, 121, 109, 109, 111, 114, 122, 126, 121, 133, 124, 116, 120, 125, 114, 104, 114, 125, 132, 132, 125, 127, 137, 151, 152, 146, 150, 152, 152, 151, 144, 137, 114, 114, 95, 75, 65, 64, 74, 82, 91, 111, 121, 116, 121, 121, 121, 122, 124, 124, 121, 114, 111, 120, 126, 126, 129, 127, 122, 123, 129, 134, 128, 118, 115, 121, 124, 125, 127, 134, 146, 151, 138, 140, 151, 153, 153, 149, 152, 142, 135, 123, 106, 88, 69, 64, 71, 81, 76, 71, 93, 114, 111, 114, 119, 122, 125, 128, 129, 126, 113, 111, 110, 108, 110, 117, 123, 126, 136, 136, 130, 126, 123, 121, 121, 121, 132, 144, 154, 143, 123, 140, 153, 155, 155, 156, 152, 150, 137, 129, 112, 102, 84, 69, 71, 78, 85, 69, 63, 88, 102, 102, 106, 115, 119, 126, 131, 133, 131, 125, 119, 117, 118, 124, 133, 136, 136, 133, 128, 123, 120, 117, 123, 127, 139, 149, 156, 120, 134, 143, 152, 156, 158, 158, 150, 153, 145, 136, 121, 112, 96, 82, 77, 81, 86, 85, 65, 63, 83, 90, 97, 101, 111, 117, 127, 137, 143, 150, 150, 150, 152, 149, 148, 141, 135, 127, 117, 117, 110, 111, 121, 132, 142, 151, 146, 116, 140, 145, 154, 157, 159, 158, 155, 155, 150, 139, 128, 121, 110, 95, 89, 91, 91, 89, 78, 67, 63, 70, 83, 84, 99, 108, 121, 131, 139, 150, 146, 146, 146, 146, 143, 135, 125, 114, 116, 121, 112, 116, 132, 137, 146, 151, 134, 121, 142, 149, 156, 158, 160, 156, 156, 151, 145, 132, 139, 130, 120, 106, 101, 98, 98, 98, 90, 78, 71, 67, 68, 70, 75, 84, 101, 121, 131, 136, 139, 134, 134, 133, 129, 118, 112, 111, 122, 125, 118, 125, 139, 143, 147, 146, 120, 126, 141, 149, 156, 158, 160, 160, 157, 148, 139, 129, 141, 138, 129, 116, 110, 108, 107, 105, 104, 91, 80, 75, 73, 81, 82, 76, 71, 90, 118, 129, 116, 110, 113, 109, 105, 106, 112, 121, 129, 126, 126, 129, 142, 148, 150, 145, 113, 129, 142, 149, 156, 157, 158, 158, 157, 151, 143, 129, 138, 146, 136, 125, 119, 118, 115, 114, 112, 102, 91, 82, 79, 82, 91, 99, 95, 96, 99, 103, 98, 97, 103, 108, 110, 118, 124, 130, 131, 131, 131, 137, 144, 147, 147, 136, 111, 131, 141, 146, 153, 156, 154, 154, 153, 150, 145, 129, 140, 148, 141, 132, 127, 127, 125, 123, 117, 110, 102, 93, 85, 87, 93, 100, 106, 107, 107, 110, 108, 114, 113, 113, 117, 120, 125, 133, 136, 135, 137, 142, 144, 145, 144, 131, 111, 133, 139, 144, 149, 152, 153, 153, 153, 152, 146, 121, 138, 147, 146, 139, 135, 132, 133, 131, 124, 116, 108, 102, 97, 97, 103, 107, 111, 112, 113, 116, 116, 117, 117, 122, 125, 128, 131, 136, 138, 137, 137, 140, 142, 143, 140, 123, 114, 128, 135, 138, 143, 145, 149, 151, 151, 150, 148, 117, 137, 146, 146, 143, 138, 135, 135, 134, 128, 122, 116, 112, 108, 107, 109, 113, 117, 118, 117, 118, 119, 121, 124, 127, 129, 131, 132, 135, 137, 137, 137, 138, 141, 142, 133, 108, 107, 124, 134, 136, 140, 142, 146, 148, 149, 148, 148, 115, 135, 142, 142, 141, 140, 137, 135, 135, 130, 125, 122, 118, 115, 114, 116, 121, 123, 124, 123, 124, 122, 124, 125, 128, 129, 131, 132, 135, 135, 135, 136, 138, 135, 133, 124, 90, 104, 123, 129, 134, 138, 142, 144, 144, 146, 146, 146]\n"
     ]
    }
   ],
   "source": [
    "first_image = face_data['pixels'][0]\n",
    "first_image = first_image.split()\n",
    "first_image = [int(pixel) for pixel in first_image]\n",
    "print(first_image)"
   ]
  },
  {
   "cell_type": "code",
   "execution_count": 13,
   "metadata": {},
   "outputs": [
    {
     "data": {
      "text/plain": [
       "2304"
      ]
     },
     "execution_count": 13,
     "metadata": {},
     "output_type": "execute_result"
    }
   ],
   "source": [
    "len(first_image)"
   ]
  },
  {
   "cell_type": "code",
   "execution_count": 14,
   "metadata": {},
   "outputs": [
    {
     "data": {
      "text/plain": [
       "48.0"
      ]
     },
     "execution_count": 14,
     "metadata": {},
     "output_type": "execute_result"
    }
   ],
   "source": [
    "2304**0.5"
   ]
  },
  {
   "cell_type": "markdown",
   "metadata": {},
   "source": [
    "The pixels given in the CSV will only allow us to reconstruct a 48 X 48 grayscale image.   \n",
    "The JPEG image files that were given in the UTK were 200 X 200 and in RGB format, which gives us more data for the model to train on.\n",
    "\n",
    "Since we won't be using the pixel values given in the CSV file, we drop the column."
   ]
  },
  {
   "cell_type": "code",
   "execution_count": 15,
   "metadata": {},
   "outputs": [],
   "source": [
    "face_data.drop(columns = ['pixels'], inplace = True)"
   ]
  },
  {
   "cell_type": "markdown",
   "metadata": {},
   "source": [
    "The labels of each face image is embedded in the file name, formated like (age) (gender) (race) (date&time).jpg\n",
    "\n",
    "**Age**: integer from 1 to 116, indicating the age    \n",
    "**Gender**: is either 0 (male) or 1 (female)      \n",
    "**Race**: integer from 0 to 4, denoting White, Black, Asian, Indian, and Others (like Hispanic, Latino, Middle Eastern).    \n",
    "**Date/Time**: shows the date and time an image was collected to UTKFace\n",
    "\n",
    "For this project, we will only be looking at images of people aged 1 - 75."
   ]
  },
  {
   "cell_type": "code",
   "execution_count": 16,
   "metadata": {},
   "outputs": [
    {
     "data": {
      "text/html": [
       "<div>\n",
       "<style scoped>\n",
       "    .dataframe tbody tr th:only-of-type {\n",
       "        vertical-align: middle;\n",
       "    }\n",
       "\n",
       "    .dataframe tbody tr th {\n",
       "        vertical-align: top;\n",
       "    }\n",
       "\n",
       "    .dataframe thead th {\n",
       "        text-align: right;\n",
       "    }\n",
       "</style>\n",
       "<table border=\"1\" class=\"dataframe\">\n",
       "  <thead>\n",
       "    <tr style=\"text-align: right;\">\n",
       "      <th></th>\n",
       "      <th>age</th>\n",
       "      <th>ethnicity</th>\n",
       "      <th>gender</th>\n",
       "      <th>img_name</th>\n",
       "    </tr>\n",
       "  </thead>\n",
       "  <tbody>\n",
       "    <tr>\n",
       "      <th>0</th>\n",
       "      <td>1</td>\n",
       "      <td>2</td>\n",
       "      <td>0</td>\n",
       "      <td>20161219203650636.jpg.chip.jpg</td>\n",
       "    </tr>\n",
       "    <tr>\n",
       "      <th>1</th>\n",
       "      <td>1</td>\n",
       "      <td>2</td>\n",
       "      <td>0</td>\n",
       "      <td>20161219222752047.jpg.chip.jpg</td>\n",
       "    </tr>\n",
       "    <tr>\n",
       "      <th>2</th>\n",
       "      <td>1</td>\n",
       "      <td>2</td>\n",
       "      <td>0</td>\n",
       "      <td>20161219222832191.jpg.chip.jpg</td>\n",
       "    </tr>\n",
       "    <tr>\n",
       "      <th>3</th>\n",
       "      <td>1</td>\n",
       "      <td>2</td>\n",
       "      <td>0</td>\n",
       "      <td>20161220144911423.jpg.chip.jpg</td>\n",
       "    </tr>\n",
       "    <tr>\n",
       "      <th>4</th>\n",
       "      <td>1</td>\n",
       "      <td>2</td>\n",
       "      <td>0</td>\n",
       "      <td>20161220144914327.jpg.chip.jpg</td>\n",
       "    </tr>\n",
       "  </tbody>\n",
       "</table>\n",
       "</div>"
      ],
      "text/plain": [
       "   age  ethnicity  gender                        img_name\n",
       "0    1          2       0  20161219203650636.jpg.chip.jpg\n",
       "1    1          2       0  20161219222752047.jpg.chip.jpg\n",
       "2    1          2       0  20161219222832191.jpg.chip.jpg\n",
       "3    1          2       0  20161220144911423.jpg.chip.jpg\n",
       "4    1          2       0  20161220144914327.jpg.chip.jpg"
      ]
     },
     "execution_count": 16,
     "metadata": {},
     "output_type": "execute_result"
    }
   ],
   "source": [
    "face_data = face_data[face_data['age'] < 75]\n",
    "face_data.head()"
   ]
  },
  {
   "cell_type": "code",
   "execution_count": 17,
   "metadata": {},
   "outputs": [
    {
     "data": {
      "text/html": [
       "<div>\n",
       "<style scoped>\n",
       "    .dataframe tbody tr th:only-of-type {\n",
       "        vertical-align: middle;\n",
       "    }\n",
       "\n",
       "    .dataframe tbody tr th {\n",
       "        vertical-align: top;\n",
       "    }\n",
       "\n",
       "    .dataframe thead th {\n",
       "        text-align: right;\n",
       "    }\n",
       "</style>\n",
       "<table border=\"1\" class=\"dataframe\">\n",
       "  <thead>\n",
       "    <tr style=\"text-align: right;\">\n",
       "      <th></th>\n",
       "      <th>count</th>\n",
       "      <th>mean</th>\n",
       "      <th>std</th>\n",
       "      <th>min</th>\n",
       "      <th>25%</th>\n",
       "      <th>50%</th>\n",
       "      <th>75%</th>\n",
       "      <th>max</th>\n",
       "    </tr>\n",
       "  </thead>\n",
       "  <tbody>\n",
       "    <tr>\n",
       "      <th>age</th>\n",
       "      <td>22706.0</td>\n",
       "      <td>31.107989</td>\n",
       "      <td>17.219179</td>\n",
       "      <td>1.0</td>\n",
       "      <td>23.0</td>\n",
       "      <td>28.0</td>\n",
       "      <td>41.0</td>\n",
       "      <td>74.0</td>\n",
       "    </tr>\n",
       "    <tr>\n",
       "      <th>ethnicity</th>\n",
       "      <td>22706.0</td>\n",
       "      <td>1.300361</td>\n",
       "      <td>1.352374</td>\n",
       "      <td>0.0</td>\n",
       "      <td>0.0</td>\n",
       "      <td>1.0</td>\n",
       "      <td>2.0</td>\n",
       "      <td>4.0</td>\n",
       "    </tr>\n",
       "    <tr>\n",
       "      <th>gender</th>\n",
       "      <td>22706.0</td>\n",
       "      <td>0.475469</td>\n",
       "      <td>0.499409</td>\n",
       "      <td>0.0</td>\n",
       "      <td>0.0</td>\n",
       "      <td>0.0</td>\n",
       "      <td>1.0</td>\n",
       "      <td>1.0</td>\n",
       "    </tr>\n",
       "  </tbody>\n",
       "</table>\n",
       "</div>"
      ],
      "text/plain": [
       "             count       mean        std  min   25%   50%   75%   max\n",
       "age        22706.0  31.107989  17.219179  1.0  23.0  28.0  41.0  74.0\n",
       "ethnicity  22706.0   1.300361   1.352374  0.0   0.0   1.0   2.0   4.0\n",
       "gender     22706.0   0.475469   0.499409  0.0   0.0   0.0   1.0   1.0"
      ]
     },
     "execution_count": 17,
     "metadata": {},
     "output_type": "execute_result"
    }
   ],
   "source": [
    "face_data.describe().T"
   ]
  },
  {
   "cell_type": "code",
   "execution_count": 18,
   "metadata": {},
   "outputs": [
    {
     "data": {
      "image/png": "[encoded data removed]",
      "text/plain": [
       "<Figure size 864x576 with 1 Axes>"
      ]
     },
     "metadata": {
      "needs_background": "light"
     },
     "output_type": "display_data"
    }
   ],
   "source": [
    "face_data['age'].plot(kind = 'hist', bins = 37, figsize = (12, 8))\n",
    "plt.xticks(range(1, 75, 2))\n",
    "plt.show()"
   ]
  },
  {
   "cell_type": "code",
   "execution_count": 19,
   "metadata": {},
   "outputs": [
    {
     "data": {
      "text/plain": [
       "<AxesSubplot:>"
      ]
     },
     "execution_count": 19,
     "metadata": {},
     "output_type": "execute_result"
    },
    {
     "data": {
      "image/png": "[encoded data removed]",
      "text/plain": [
       "<Figure size 504x360 with 1 Axes>"
      ]
     },
     "metadata": {
      "needs_background": "light"
     },
     "output_type": "display_data"
    }
   ],
   "source": [
    "face_data['ethnicity'].value_counts().to_frame(name = \"Ethnicity Count\").plot(kind = 'bar', figsize = (7, 5))"
   ]
  },
  {
   "cell_type": "code",
   "execution_count": 20,
   "metadata": {},
   "outputs": [
    {
     "data": {
      "text/plain": [
       "0    0.413283\n",
       "1    0.194882\n",
       "3    0.173302\n",
       "2    0.144279\n",
       "4    0.074254\n",
       "Name: ethnicity, dtype: float64"
      ]
     },
     "execution_count": 20,
     "metadata": {},
     "output_type": "execute_result"
    }
   ],
   "source": [
    "face_data['ethnicity'].value_counts(normalize = True)"
   ]
  },
  {
   "cell_type": "code",
   "execution_count": 21,
   "metadata": {},
   "outputs": [
    {
     "data": {
      "text/plain": [
       "<AxesSubplot:>"
      ]
     },
     "execution_count": 21,
     "metadata": {},
     "output_type": "execute_result"
    },
    {
     "data": {
      "image/png": "[encoded data removed]",
      "text/plain": [
       "<Figure size 288x288 with 1 Axes>"
      ]
     },
     "metadata": {
      "needs_background": "light"
     },
     "output_type": "display_data"
    }
   ],
   "source": [
    "face_data['gender'].value_counts().to_frame(name = \"Gender Count\").plot(kind = 'bar', figsize = (4, 4))"
   ]
  },
  {
   "cell_type": "markdown",
   "metadata": {},
   "source": [
    "**Imbalanced Data**\n",
    "\n",
    "We can see that there is an imbalance in the ethnic profile of the images. 41% of the images are of White ethnicity, and only 7% of the images are in the 'Others' category (which includes Hispanic, Latino, Middle Eastern, etc).\n",
    "\n",
    "There is also an imbalance in the age distribution: there is a large spike in ages 1-2 and 23-30."
   ]
  },
  {
   "cell_type": "markdown",
   "metadata": {},
   "source": [
    "### 3.1 Grouping up the Images\n",
    "\n",
    "For this project, our approach for identifying age is through Classification. We will be grouping the images into discrete age groups, and then attempt to train the model to classify images correctly.\n",
    "\n",
    "The age groups and age-ranges will be as follows:\n",
    "\n",
    "- Baby:  1 \n",
    "- Toddler:  2 - 3\n",
    "- Child:  4 - 8\n",
    "- Adolescent:  9 - 13\n",
    "- Teen:  14 - 18\n",
    "- Young Adult:  19 - 24\n",
    "- Adult: 25 - 34\n",
    "- Mature: 35 - 44\n",
    "- Middle Age: 45 - 59\n",
    "- Senior: 60 - 74"
   ]
  },
  {
   "cell_type": "code",
   "execution_count": 22,
   "metadata": {},
   "outputs": [],
   "source": [
    "def age_classifier(age):\n",
    "    \n",
    "    if age == 1:\n",
    "        \n",
    "        age_group = 'Baby'\n",
    "        \n",
    "    elif age in range(2, 4):\n",
    "        \n",
    "        age_group = 'Toddler'\n",
    "        \n",
    "    elif age in range(4, 9):\n",
    "        \n",
    "        age_group = 'Child'\n",
    "        \n",
    "    elif age in range(9, 14):\n",
    "        \n",
    "        age_group = 'Adolescent'\n",
    "        \n",
    "    elif age in range(14, 19):\n",
    "        \n",
    "        age_group = 'Teenager'\n",
    "        \n",
    "    elif age in range(19, 25):\n",
    "        \n",
    "        age_group = 'Young Adult'\n",
    "        \n",
    "    elif age in range(25, 35):\n",
    "        \n",
    "        age_group = 'Adult'\n",
    "        \n",
    "    elif age in range(35, 45):\n",
    "        \n",
    "        age_group = 'Mature Adult'\n",
    "        \n",
    "    elif age in range(45, 59):\n",
    "        \n",
    "        age_group = 'Middle Age'\n",
    "        \n",
    "    else:\n",
    "        \n",
    "        age_group = 'Senior'\n",
    "               \n",
    "    return age_group"
   ]
  },
  {
   "cell_type": "code",
   "execution_count": 23,
   "metadata": {},
   "outputs": [],
   "source": [
    "face_data['age group'] = face_data['age'].apply(age_classifier)"
   ]
  },
  {
   "cell_type": "code",
   "execution_count": 24,
   "metadata": {},
   "outputs": [
    {
     "data": {
      "text/html": [
       "<div>\n",
       "<style scoped>\n",
       "    .dataframe tbody tr th:only-of-type {\n",
       "        vertical-align: middle;\n",
       "    }\n",
       "\n",
       "    .dataframe tbody tr th {\n",
       "        vertical-align: top;\n",
       "    }\n",
       "\n",
       "    .dataframe thead th {\n",
       "        text-align: right;\n",
       "    }\n",
       "</style>\n",
       "<table border=\"1\" class=\"dataframe\">\n",
       "  <thead>\n",
       "    <tr style=\"text-align: right;\">\n",
       "      <th></th>\n",
       "      <th>age</th>\n",
       "      <th>age group</th>\n",
       "    </tr>\n",
       "  </thead>\n",
       "  <tbody>\n",
       "    <tr>\n",
       "      <th>10631</th>\n",
       "      <td>3</td>\n",
       "      <td>Toddler</td>\n",
       "    </tr>\n",
       "    <tr>\n",
       "      <th>18772</th>\n",
       "      <td>52</td>\n",
       "      <td>Middle Age</td>\n",
       "    </tr>\n",
       "    <tr>\n",
       "      <th>15489</th>\n",
       "      <td>4</td>\n",
       "      <td>Child</td>\n",
       "    </tr>\n",
       "    <tr>\n",
       "      <th>22840</th>\n",
       "      <td>8</td>\n",
       "      <td>Child</td>\n",
       "    </tr>\n",
       "    <tr>\n",
       "      <th>8499</th>\n",
       "      <td>27</td>\n",
       "      <td>Adult</td>\n",
       "    </tr>\n",
       "  </tbody>\n",
       "</table>\n",
       "</div>"
      ],
      "text/plain": [
       "       age   age group\n",
       "10631    3     Toddler\n",
       "18772   52  Middle Age\n",
       "15489    4       Child\n",
       "22840    8       Child\n",
       "8499    27       Adult"
      ]
     },
     "execution_count": 24,
     "metadata": {},
     "output_type": "execute_result"
    }
   ],
   "source": [
    "face_data[['age', 'age group']].sample(5)\n",
    "\n",
    "#check whether function worked correctly"
   ]
  },
  {
   "cell_type": "code",
   "execution_count": 25,
   "metadata": {},
   "outputs": [
    {
     "data": {
      "text/plain": [
       "Adult           0.322558\n",
       "Mature Adult    0.150929\n",
       "Middle Age      0.144499\n",
       "Young Adult     0.106051\n",
       "Senior          0.077997\n",
       "Baby            0.049458\n",
       "Child           0.044129\n",
       "Teenager        0.044085\n",
       "Toddler         0.033956\n",
       "Adolescent      0.026337\n",
       "Name: age group, dtype: float64"
      ]
     },
     "execution_count": 25,
     "metadata": {},
     "output_type": "execute_result"
    }
   ],
   "source": [
    "face_data['age group'].value_counts(normalize = True)"
   ]
  },
  {
   "cell_type": "code",
   "execution_count": 26,
   "metadata": {},
   "outputs": [
    {
     "data": {
      "text/plain": [
       "<AxesSubplot:>"
      ]
     },
     "execution_count": 26,
     "metadata": {},
     "output_type": "execute_result"
    },
    {
     "data": {
      "image/png": "[encoded data removed]",
      "text/plain": [
       "<Figure size 720x432 with 1 Axes>"
      ]
     },
     "metadata": {
      "needs_background": "light"
     },
     "output_type": "display_data"
    }
   ],
   "source": [
    "face_data['age group'].value_counts().to_frame(name = 'Count').plot(kind = 'bar', figsize = (10, 6))"
   ]
  },
  {
   "cell_type": "code",
   "execution_count": 27,
   "metadata": {},
   "outputs": [
    {
     "data": {
      "text/plain": [
       "Adult           0.322558\n",
       "Mature Adult    0.150929\n",
       "Middle Age      0.144499\n",
       "Young Adult     0.106051\n",
       "Senior          0.077997\n",
       "Baby            0.049458\n",
       "Child           0.044129\n",
       "Teenager        0.044085\n",
       "Toddler         0.033956\n",
       "Adolescent      0.026337\n",
       "Name: age group, dtype: float64"
      ]
     },
     "execution_count": 27,
     "metadata": {},
     "output_type": "execute_result"
    }
   ],
   "source": [
    "face_data['age group'].value_counts(normalize = True)"
   ]
  },
  {
   "cell_type": "markdown",
   "metadata": {},
   "source": [
    "### 3.2 Data Cleaning\n",
    "\n",
    "As we have found earlier, there are imbalances in the dataset. Specifically, the number of images in the age groups vary greatly: Adults form 32% of the images, while Adolescents take up only 2.6%. This is a difference of 12.3 times; more than an order of magnitude.\n",
    "\n",
    "Ethnic distribution is very imbalanced as well, as pointed our earlier. We will try to reduce the imbalances in both areas."
   ]
  },
  {
   "cell_type": "code",
   "execution_count": 28,
   "metadata": {},
   "outputs": [],
   "source": [
    "#race: int from 0 to 4, denoting White, Black, Asian, Indian, and Others (like Hispanic, Latino, Middle Eastern)."
   ]
  },
  {
   "cell_type": "code",
   "execution_count": 29,
   "metadata": {},
   "outputs": [
    {
     "data": {
      "text/plain": [
       "2    430\n",
       "0    287\n",
       "3    234\n",
       "4    139\n",
       "1     33\n",
       "Name: ethnicity, dtype: int64"
      ]
     },
     "execution_count": 29,
     "metadata": {},
     "output_type": "execute_result"
    }
   ],
   "source": [
    "face_data[face_data['age group'] == 'Baby']['ethnicity'].value_counts()"
   ]
  },
  {
   "cell_type": "code",
   "execution_count": 30,
   "metadata": {},
   "outputs": [
    {
     "data": {
      "text/plain": [
       "50"
      ]
     },
     "execution_count": 30,
     "metadata": {},
     "output_type": "execute_result"
    }
   ],
   "source": [
    "drop_list = []\n",
    "\n",
    "index = face_data[(face_data['age group'] == 'Baby') & (face_data['ethnicity'] == 2)].index\n",
    "index = set(index)\n",
    "    \n",
    "drop_list.extend(random.sample(index, 50))\n",
    "\n",
    "len(drop_list)"
   ]
  },
  {
   "cell_type": "code",
   "execution_count": 31,
   "metadata": {},
   "outputs": [
    {
     "data": {
      "text/plain": [
       "(22706, 5)"
      ]
     },
     "execution_count": 31,
     "metadata": {},
     "output_type": "execute_result"
    }
   ],
   "source": [
    "face_data.shape"
   ]
  },
  {
   "cell_type": "code",
   "execution_count": 32,
   "metadata": {},
   "outputs": [
    {
     "data": {
      "text/plain": [
       "(22656, 5)"
      ]
     },
     "execution_count": 32,
     "metadata": {},
     "output_type": "execute_result"
    }
   ],
   "source": [
    "face_data.drop(axis = 0, index = drop_list, inplace = True)\n",
    "face_data.shape"
   ]
  },
  {
   "cell_type": "code",
   "execution_count": 33,
   "metadata": {},
   "outputs": [
    {
     "data": {
      "text/plain": [
       "2    380\n",
       "0    287\n",
       "3    234\n",
       "4    139\n",
       "1     33\n",
       "Name: ethnicity, dtype: int64"
      ]
     },
     "execution_count": 33,
     "metadata": {},
     "output_type": "execute_result"
    }
   ],
   "source": [
    "face_data[face_data['age group'] == 'Baby']['ethnicity'].value_counts()"
   ]
  },
  {
   "cell_type": "markdown",
   "metadata": {},
   "source": [
    "**Dropping images based on age group and ethnicity**\n",
    "\n",
    "Depending on the numbers in each ethnic community for each age group, we will remove photos accordingly to reduce the imbalance."
   ]
  },
  {
   "cell_type": "code",
   "execution_count": 34,
   "metadata": {},
   "outputs": [
    {
     "data": {
      "text/plain": [
       "2    298\n",
       "0    209\n",
       "4    122\n",
       "3    107\n",
       "1     35\n",
       "Name: ethnicity, dtype: int64"
      ]
     },
     "execution_count": 34,
     "metadata": {},
     "output_type": "execute_result"
    }
   ],
   "source": [
    "face_data[face_data['age group'] == 'Toddler']['ethnicity'].value_counts()"
   ]
  },
  {
   "cell_type": "code",
   "execution_count": null,
   "metadata": {},
   "outputs": [],
   "source": []
  },
  {
   "cell_type": "code",
   "execution_count": 35,
   "metadata": {},
   "outputs": [
    {
     "data": {
      "text/plain": [
       "0    479\n",
       "2    187\n",
       "3    144\n",
       "4    118\n",
       "1     74\n",
       "Name: ethnicity, dtype: int64"
      ]
     },
     "execution_count": 35,
     "metadata": {},
     "output_type": "execute_result"
    }
   ],
   "source": [
    "face_data[face_data['age group'] == 'Child']['ethnicity'].value_counts()"
   ]
  },
  {
   "cell_type": "code",
   "execution_count": 36,
   "metadata": {},
   "outputs": [
    {
     "data": {
      "text/plain": [
       "100"
      ]
     },
     "execution_count": 36,
     "metadata": {},
     "output_type": "execute_result"
    }
   ],
   "source": [
    "drop_list = []\n",
    "\n",
    "index = face_data[(face_data['age group'] == 'Child') & (face_data['ethnicity'] == 0)].index\n",
    "index = set(index)\n",
    "    \n",
    "drop_list.extend(random.sample(index, 100))\n",
    "\n",
    "len(drop_list)"
   ]
  },
  {
   "cell_type": "code",
   "execution_count": 37,
   "metadata": {},
   "outputs": [
    {
     "data": {
      "text/plain": [
       "(22656, 5)"
      ]
     },
     "execution_count": 37,
     "metadata": {},
     "output_type": "execute_result"
    }
   ],
   "source": [
    "face_data.shape"
   ]
  },
  {
   "cell_type": "code",
   "execution_count": 38,
   "metadata": {},
   "outputs": [
    {
     "data": {
      "text/plain": [
       "(22556, 5)"
      ]
     },
     "execution_count": 38,
     "metadata": {},
     "output_type": "execute_result"
    }
   ],
   "source": [
    "face_data.drop(axis = 0, index = drop_list, inplace = True)\n",
    "face_data.shape"
   ]
  },
  {
   "cell_type": "code",
   "execution_count": 39,
   "metadata": {},
   "outputs": [
    {
     "data": {
      "text/plain": [
       "0    379\n",
       "2    187\n",
       "3    144\n",
       "4    118\n",
       "1     74\n",
       "Name: ethnicity, dtype: int64"
      ]
     },
     "execution_count": 39,
     "metadata": {},
     "output_type": "execute_result"
    }
   ],
   "source": [
    "face_data[face_data['age group'] == 'Child']['ethnicity'].value_counts()"
   ]
  },
  {
   "cell_type": "code",
   "execution_count": null,
   "metadata": {},
   "outputs": [],
   "source": []
  },
  {
   "cell_type": "code",
   "execution_count": 40,
   "metadata": {},
   "outputs": [
    {
     "data": {
      "text/plain": [
       "0    424\n",
       "4     48\n",
       "1     44\n",
       "2     42\n",
       "3     40\n",
       "Name: ethnicity, dtype: int64"
      ]
     },
     "execution_count": 40,
     "metadata": {},
     "output_type": "execute_result"
    }
   ],
   "source": [
    "face_data[(face_data['age group'] == 'Adolescent')]['ethnicity'].value_counts()"
   ]
  },
  {
   "cell_type": "code",
   "execution_count": 41,
   "metadata": {},
   "outputs": [
    {
     "data": {
      "text/plain": [
       "150"
      ]
     },
     "execution_count": 41,
     "metadata": {},
     "output_type": "execute_result"
    }
   ],
   "source": [
    "drop_list = []\n",
    "\n",
    "index = face_data[(face_data['age group'] == 'Adolescent') & (face_data['ethnicity'] == 0)].index\n",
    "index = set(index)\n",
    "\n",
    "drop_list.extend(random.sample(index, 150))\n",
    "\n",
    "len(drop_list)"
   ]
  },
  {
   "cell_type": "code",
   "execution_count": 42,
   "metadata": {
    "scrolled": true
   },
   "outputs": [
    {
     "data": {
      "text/plain": [
       "(22556, 5)"
      ]
     },
     "execution_count": 42,
     "metadata": {},
     "output_type": "execute_result"
    }
   ],
   "source": [
    "face_data.shape"
   ]
  },
  {
   "cell_type": "code",
   "execution_count": 43,
   "metadata": {},
   "outputs": [
    {
     "data": {
      "text/plain": [
       "(22406, 5)"
      ]
     },
     "execution_count": 43,
     "metadata": {},
     "output_type": "execute_result"
    }
   ],
   "source": [
    "face_data.drop(axis = 0, index = drop_list, inplace = True)\n",
    "face_data.shape"
   ]
  },
  {
   "cell_type": "code",
   "execution_count": 44,
   "metadata": {},
   "outputs": [
    {
     "data": {
      "text/plain": [
       "0    274\n",
       "4     48\n",
       "1     44\n",
       "2     42\n",
       "3     40\n",
       "Name: ethnicity, dtype: int64"
      ]
     },
     "execution_count": 44,
     "metadata": {},
     "output_type": "execute_result"
    }
   ],
   "source": [
    "face_data[face_data['age group'] == 'Adolescent']['ethnicity'].value_counts()"
   ]
  },
  {
   "cell_type": "code",
   "execution_count": null,
   "metadata": {},
   "outputs": [],
   "source": []
  },
  {
   "cell_type": "code",
   "execution_count": 45,
   "metadata": {},
   "outputs": [
    {
     "data": {
      "text/plain": [
       "0    605\n",
       "1    134\n",
       "4    106\n",
       "3     99\n",
       "2     57\n",
       "Name: ethnicity, dtype: int64"
      ]
     },
     "execution_count": 45,
     "metadata": {},
     "output_type": "execute_result"
    }
   ],
   "source": [
    "face_data[(face_data['age group'] == 'Teenager')]['ethnicity'].value_counts()"
   ]
  },
  {
   "cell_type": "code",
   "execution_count": 46,
   "metadata": {},
   "outputs": [
    {
     "data": {
      "text/plain": [
       "250"
      ]
     },
     "execution_count": 46,
     "metadata": {},
     "output_type": "execute_result"
    }
   ],
   "source": [
    "drop_list = []\n",
    "\n",
    "index = face_data[(face_data['age group'] == 'Teenager') & (face_data['ethnicity'] == 0)].index\n",
    "index = set(index)\n",
    "\n",
    "drop_list.extend(random.sample(index, 250))\n",
    "\n",
    "len(drop_list)"
   ]
  },
  {
   "cell_type": "code",
   "execution_count": 47,
   "metadata": {},
   "outputs": [
    {
     "data": {
      "text/plain": [
       "(22406, 5)"
      ]
     },
     "execution_count": 47,
     "metadata": {},
     "output_type": "execute_result"
    }
   ],
   "source": [
    "face_data.shape"
   ]
  },
  {
   "cell_type": "code",
   "execution_count": 48,
   "metadata": {},
   "outputs": [
    {
     "data": {
      "text/plain": [
       "(22156, 5)"
      ]
     },
     "execution_count": 48,
     "metadata": {},
     "output_type": "execute_result"
    }
   ],
   "source": [
    "face_data.drop(axis = 0, index = drop_list, inplace = True)\n",
    "face_data.shape"
   ]
  },
  {
   "cell_type": "code",
   "execution_count": 49,
   "metadata": {},
   "outputs": [
    {
     "data": {
      "text/plain": [
       "0    355\n",
       "1    134\n",
       "4    106\n",
       "3     99\n",
       "2     57\n",
       "Name: ethnicity, dtype: int64"
      ]
     },
     "execution_count": 49,
     "metadata": {},
     "output_type": "execute_result"
    }
   ],
   "source": [
    "face_data[face_data['age group'] == 'Teenager']['ethnicity'].value_counts()"
   ]
  },
  {
   "cell_type": "code",
   "execution_count": null,
   "metadata": {},
   "outputs": [],
   "source": []
  },
  {
   "cell_type": "code",
   "execution_count": 50,
   "metadata": {},
   "outputs": [
    {
     "data": {
      "text/plain": [
       "0    645\n",
       "2    509\n",
       "3    477\n",
       "1    469\n",
       "4    308\n",
       "Name: ethnicity, dtype: int64"
      ]
     },
     "execution_count": 50,
     "metadata": {},
     "output_type": "execute_result"
    }
   ],
   "source": [
    "face_data[(face_data['age group'] == 'Young Adult')]['ethnicity'].value_counts()"
   ]
  },
  {
   "cell_type": "code",
   "execution_count": null,
   "metadata": {},
   "outputs": [],
   "source": []
  },
  {
   "cell_type": "code",
   "execution_count": 51,
   "metadata": {},
   "outputs": [
    {
     "data": {
      "text/plain": [
       "0    2214\n",
       "1    2052\n",
       "3    1388\n",
       "2    1147\n",
       "4     523\n",
       "Name: ethnicity, dtype: int64"
      ]
     },
     "execution_count": 51,
     "metadata": {},
     "output_type": "execute_result"
    }
   ],
   "source": [
    "face_data[(face_data['age group'] == 'Adult')]['ethnicity'].value_counts()"
   ]
  },
  {
   "cell_type": "code",
   "execution_count": 52,
   "metadata": {},
   "outputs": [],
   "source": [
    "drop_list = []\n",
    "\n",
    "for i in range(2):\n",
    "    \n",
    "    index = face_data[(face_data['age group'] == 'Adult') & (face_data['ethnicity'] == i)].index\n",
    "    index = set(index)\n",
    "    \n",
    "    drop_list.extend(random.sample(index, 1450))\n",
    "    \n",
    "index = face_data[(face_data['age group'] == 'Adult') & (face_data['ethnicity'] == 3)].index\n",
    "index = set(index)\n",
    "\n",
    "drop_list.extend(random.sample(index, 850))\n",
    "\n",
    "index = face_data[(face_data['age group'] == 'Adult') & (face_data['ethnicity'] == 2)].index\n",
    "index = set(index)\n",
    "\n",
    "drop_list.extend(random.sample(index, 750))\n",
    "\n",
    "index = face_data[(face_data['age group'] == 'Adult') & (face_data['ethnicity'] == 4)].index\n",
    "index = set(index)\n",
    "    \n",
    "drop_list.extend(random.sample(index, 200))"
   ]
  },
  {
   "cell_type": "code",
   "execution_count": 53,
   "metadata": {},
   "outputs": [
    {
     "data": {
      "text/plain": [
       "4700"
      ]
     },
     "execution_count": 53,
     "metadata": {},
     "output_type": "execute_result"
    }
   ],
   "source": [
    "len(drop_list)"
   ]
  },
  {
   "cell_type": "code",
   "execution_count": 54,
   "metadata": {},
   "outputs": [
    {
     "data": {
      "text/plain": [
       "(22156, 5)"
      ]
     },
     "execution_count": 54,
     "metadata": {},
     "output_type": "execute_result"
    }
   ],
   "source": [
    "face_data.shape"
   ]
  },
  {
   "cell_type": "code",
   "execution_count": 55,
   "metadata": {},
   "outputs": [
    {
     "data": {
      "text/plain": [
       "(17456, 5)"
      ]
     },
     "execution_count": 55,
     "metadata": {},
     "output_type": "execute_result"
    }
   ],
   "source": [
    "face_data.drop(axis = 0, index = drop_list, inplace = True)\n",
    "face_data.shape"
   ]
  },
  {
   "cell_type": "code",
   "execution_count": 56,
   "metadata": {},
   "outputs": [
    {
     "data": {
      "text/plain": [
       "0    764\n",
       "1    602\n",
       "3    538\n",
       "2    397\n",
       "4    323\n",
       "Name: ethnicity, dtype: int64"
      ]
     },
     "execution_count": 56,
     "metadata": {},
     "output_type": "execute_result"
    }
   ],
   "source": [
    "face_data[face_data['age group'] == 'Adult']['ethnicity'].value_counts()"
   ]
  },
  {
   "cell_type": "markdown",
   "metadata": {},
   "source": [
    "**Dropping images for Adult Age-group**\n",
    "\n",
    "We drop images more aggresively for this age group because the overall numbers for adults still vastly outnumber the other age groups. We also try to reduce ethnicity imbalance."
   ]
  },
  {
   "cell_type": "code",
   "execution_count": 57,
   "metadata": {},
   "outputs": [
    {
     "data": {
      "text/plain": [
       "0    1497\n",
       "1     846\n",
       "3     561\n",
       "2     326\n",
       "4     197\n",
       "Name: ethnicity, dtype: int64"
      ]
     },
     "execution_count": 57,
     "metadata": {},
     "output_type": "execute_result"
    }
   ],
   "source": [
    "face_data[face_data['age group'] == 'Mature Adult']['ethnicity'].value_counts()"
   ]
  },
  {
   "cell_type": "code",
   "execution_count": 58,
   "metadata": {},
   "outputs": [
    {
     "data": {
      "text/plain": [
       "1400"
      ]
     },
     "execution_count": 58,
     "metadata": {},
     "output_type": "execute_result"
    }
   ],
   "source": [
    "drop_list = []\n",
    "    \n",
    "index = face_data[(face_data['age group'] == 'Mature Adult') & (face_data['ethnicity'] == 3)].index\n",
    "index = set(index)\n",
    "    \n",
    "drop_list.extend(random.sample(index, 150))\n",
    "\n",
    "index = face_data[(face_data['age group'] == 'Mature Adult') & (face_data['ethnicity'] == 1)].index\n",
    "index = set(index)\n",
    "    \n",
    "drop_list.extend(random.sample(index, 350))\n",
    "\n",
    "index = face_data[(face_data['age group'] == 'Mature Adult') & (face_data['ethnicity'] == 0)].index\n",
    "index = set(index)\n",
    "    \n",
    "drop_list.extend(random.sample(index, 900))\n",
    "    \n",
    "len(drop_list)"
   ]
  },
  {
   "cell_type": "code",
   "execution_count": 59,
   "metadata": {},
   "outputs": [
    {
     "data": {
      "text/plain": [
       "(17456, 5)"
      ]
     },
     "execution_count": 59,
     "metadata": {},
     "output_type": "execute_result"
    }
   ],
   "source": [
    "face_data.shape"
   ]
  },
  {
   "cell_type": "code",
   "execution_count": 60,
   "metadata": {},
   "outputs": [
    {
     "data": {
      "text/plain": [
       "(16056, 5)"
      ]
     },
     "execution_count": 60,
     "metadata": {},
     "output_type": "execute_result"
    }
   ],
   "source": [
    "face_data.drop(axis = 0, index = drop_list, inplace = True)\n",
    "face_data.shape"
   ]
  },
  {
   "cell_type": "code",
   "execution_count": 61,
   "metadata": {},
   "outputs": [
    {
     "data": {
      "text/plain": [
       "0    597\n",
       "1    496\n",
       "3    411\n",
       "2    326\n",
       "4    197\n",
       "Name: ethnicity, dtype: int64"
      ]
     },
     "execution_count": 61,
     "metadata": {},
     "output_type": "execute_result"
    }
   ],
   "source": [
    "face_data[face_data['age group'] == 'Mature Adult']['ethnicity'].value_counts()"
   ]
  },
  {
   "cell_type": "code",
   "execution_count": null,
   "metadata": {},
   "outputs": [],
   "source": []
  },
  {
   "cell_type": "code",
   "execution_count": 62,
   "metadata": {},
   "outputs": [
    {
     "data": {
      "text/plain": [
       "0    1849\n",
       "3     687\n",
       "1     483\n",
       "2     152\n",
       "4     110\n",
       "Name: ethnicity, dtype: int64"
      ]
     },
     "execution_count": 62,
     "metadata": {},
     "output_type": "execute_result"
    }
   ],
   "source": [
    "face_data[face_data['age group'] == 'Middle Age']['ethnicity'].value_counts()"
   ]
  },
  {
   "cell_type": "code",
   "execution_count": 63,
   "metadata": {},
   "outputs": [
    {
     "data": {
      "text/plain": [
       "1900"
      ]
     },
     "execution_count": 63,
     "metadata": {},
     "output_type": "execute_result"
    }
   ],
   "source": [
    "drop_list = []\n",
    "    \n",
    "index = face_data[(face_data['age group'] == 'Middle Age') & (face_data['ethnicity'] == 1)].index\n",
    "index = set(index)\n",
    "    \n",
    "drop_list.extend(random.sample(index, 200))\n",
    "\n",
    "index = face_data[(face_data['age group'] == 'Middle Age') & (face_data['ethnicity'] == 3)].index\n",
    "index = set(index)\n",
    "    \n",
    "drop_list.extend(random.sample(index, 300))\n",
    "\n",
    "index = face_data[(face_data['age group'] == 'Middle Age') & (face_data['ethnicity'] == 0)].index\n",
    "index = set(index)\n",
    "    \n",
    "drop_list.extend(random.sample(index, 1400))\n",
    "    \n",
    "len(drop_list)"
   ]
  },
  {
   "cell_type": "code",
   "execution_count": 64,
   "metadata": {},
   "outputs": [
    {
     "data": {
      "text/plain": [
       "(16056, 5)"
      ]
     },
     "execution_count": 64,
     "metadata": {},
     "output_type": "execute_result"
    }
   ],
   "source": [
    "face_data.shape"
   ]
  },
  {
   "cell_type": "code",
   "execution_count": 65,
   "metadata": {},
   "outputs": [
    {
     "data": {
      "text/plain": [
       "(14156, 5)"
      ]
     },
     "execution_count": 65,
     "metadata": {},
     "output_type": "execute_result"
    }
   ],
   "source": [
    "face_data.drop(axis = 0, index = drop_list, inplace = True)\n",
    "face_data.shape"
   ]
  },
  {
   "cell_type": "code",
   "execution_count": 66,
   "metadata": {},
   "outputs": [
    {
     "data": {
      "text/plain": [
       "0    449\n",
       "3    387\n",
       "1    283\n",
       "2    152\n",
       "4    110\n",
       "Name: ethnicity, dtype: int64"
      ]
     },
     "execution_count": 66,
     "metadata": {},
     "output_type": "execute_result"
    }
   ],
   "source": [
    "face_data[face_data['age group'] == 'Middle Age']['ethnicity'].value_counts()"
   ]
  },
  {
   "cell_type": "code",
   "execution_count": null,
   "metadata": {},
   "outputs": [],
   "source": []
  },
  {
   "cell_type": "code",
   "execution_count": 67,
   "metadata": {},
   "outputs": [
    {
     "data": {
      "text/plain": [
       "0    1175\n",
       "1     255\n",
       "3     198\n",
       "2     128\n",
       "4      15\n",
       "Name: ethnicity, dtype: int64"
      ]
     },
     "execution_count": 67,
     "metadata": {},
     "output_type": "execute_result"
    }
   ],
   "source": [
    "face_data[face_data['age group'] == 'Senior']['ethnicity'].value_counts()"
   ]
  },
  {
   "cell_type": "code",
   "execution_count": 68,
   "metadata": {},
   "outputs": [
    {
     "data": {
      "text/plain": [
       "800"
      ]
     },
     "execution_count": 68,
     "metadata": {},
     "output_type": "execute_result"
    }
   ],
   "source": [
    "drop_list = []\n",
    "\n",
    "index = face_data[(face_data['age group'] == 'Senior') & (face_data['ethnicity'] == 0)].index\n",
    "index = set(index)\n",
    "    \n",
    "drop_list.extend(random.sample(index, 800))\n",
    "    \n",
    "len(drop_list)"
   ]
  },
  {
   "cell_type": "code",
   "execution_count": 69,
   "metadata": {},
   "outputs": [
    {
     "data": {
      "text/plain": [
       "(14156, 5)"
      ]
     },
     "execution_count": 69,
     "metadata": {},
     "output_type": "execute_result"
    }
   ],
   "source": [
    "face_data.shape"
   ]
  },
  {
   "cell_type": "code",
   "execution_count": 70,
   "metadata": {},
   "outputs": [
    {
     "data": {
      "text/plain": [
       "(13356, 5)"
      ]
     },
     "execution_count": 70,
     "metadata": {},
     "output_type": "execute_result"
    }
   ],
   "source": [
    "face_data.drop(axis = 0, index = drop_list, inplace = True)\n",
    "face_data.shape"
   ]
  },
  {
   "cell_type": "code",
   "execution_count": 71,
   "metadata": {},
   "outputs": [
    {
     "data": {
      "text/plain": [
       "0    375\n",
       "1    255\n",
       "3    198\n",
       "2    128\n",
       "4     15\n",
       "Name: ethnicity, dtype: int64"
      ]
     },
     "execution_count": 71,
     "metadata": {},
     "output_type": "execute_result"
    }
   ],
   "source": [
    "face_data[face_data['age group'] == 'Senior']['ethnicity'].value_counts()"
   ]
  },
  {
   "cell_type": "code",
   "execution_count": null,
   "metadata": {},
   "outputs": [],
   "source": []
  },
  {
   "cell_type": "code",
   "execution_count": 72,
   "metadata": {},
   "outputs": [
    {
     "name": "stdout",
     "output_type": "stream",
     "text": [
      "Baby\n",
      "2    380\n",
      "0    287\n",
      "3    234\n",
      "4    139\n",
      "1     33\n",
      "Name: ethnicity, dtype: int64\n",
      " \n",
      "Adolescent\n",
      "0    274\n",
      "4     48\n",
      "1     44\n",
      "2     42\n",
      "3     40\n",
      "Name: ethnicity, dtype: int64\n",
      " \n",
      "Teenager\n",
      "0    355\n",
      "1    134\n",
      "4    106\n",
      "3     99\n",
      "2     57\n",
      "Name: ethnicity, dtype: int64\n",
      " \n",
      "Young Adult\n",
      "0    645\n",
      "2    509\n",
      "3    477\n",
      "1    469\n",
      "4    308\n",
      "Name: ethnicity, dtype: int64\n",
      " \n",
      "Toddler\n",
      "2    298\n",
      "0    209\n",
      "4    122\n",
      "3    107\n",
      "1     35\n",
      "Name: ethnicity, dtype: int64\n",
      " \n",
      "Adult\n",
      "0    764\n",
      "1    602\n",
      "3    538\n",
      "2    397\n",
      "4    323\n",
      "Name: ethnicity, dtype: int64\n",
      " \n",
      "Mature Adult\n",
      "0    597\n",
      "1    496\n",
      "3    411\n",
      "2    326\n",
      "4    197\n",
      "Name: ethnicity, dtype: int64\n",
      " \n",
      "Child\n",
      "0    379\n",
      "2    187\n",
      "3    144\n",
      "4    118\n",
      "1     74\n",
      "Name: ethnicity, dtype: int64\n",
      " \n",
      "Middle Age\n",
      "0    449\n",
      "3    387\n",
      "1    283\n",
      "2    152\n",
      "4    110\n",
      "Name: ethnicity, dtype: int64\n",
      " \n",
      "Senior\n",
      "0    375\n",
      "1    255\n",
      "3    198\n",
      "2    128\n",
      "4     15\n",
      "Name: ethnicity, dtype: int64\n",
      " \n"
     ]
    }
   ],
   "source": [
    "for age_group in face_data['age group'].unique(): \n",
    "    print(age_group)\n",
    "    print(face_data[face_data['age group'] == age_group]['ethnicity'].value_counts())\n",
    "    print(' ')"
   ]
  },
  {
   "cell_type": "code",
   "execution_count": 73,
   "metadata": {},
   "outputs": [
    {
     "data": {
      "text/plain": [
       "<AxesSubplot:>"
      ]
     },
     "execution_count": 73,
     "metadata": {},
     "output_type": "execute_result"
    },
    {
     "data": {
      "image/png": "[encoded data removed]",
      "text/plain": [
       "<Figure size 504x360 with 1 Axes>"
      ]
     },
     "metadata": {
      "needs_background": "light"
     },
     "output_type": "display_data"
    }
   ],
   "source": [
    "face_data['ethnicity'].value_counts().to_frame(name = \"Ethnicity Count\").plot(kind = 'bar', figsize = (7, 5))"
   ]
  },
  {
   "cell_type": "code",
   "execution_count": 74,
   "metadata": {},
   "outputs": [
    {
     "data": {
      "text/plain": [
       "0    0.324498\n",
       "3    0.197290\n",
       "2    0.185385\n",
       "1    0.181566\n",
       "4    0.111261\n",
       "Name: ethnicity, dtype: float64"
      ]
     },
     "execution_count": 74,
     "metadata": {},
     "output_type": "execute_result"
    }
   ],
   "source": [
    "face_data['ethnicity'].value_counts(normalize = True)"
   ]
  },
  {
   "cell_type": "code",
   "execution_count": 75,
   "metadata": {},
   "outputs": [
    {
     "data": {
      "text/plain": [
       "<AxesSubplot:>"
      ]
     },
     "execution_count": 75,
     "metadata": {},
     "output_type": "execute_result"
    },
    {
     "data": {
      "image/png": "[encoded data removed]",
      "text/plain": [
       "<Figure size 720x432 with 1 Axes>"
      ]
     },
     "metadata": {
      "needs_background": "light"
     },
     "output_type": "display_data"
    }
   ],
   "source": [
    "face_data['age group'].value_counts().to_frame(name = 'Count').plot(kind = 'bar', figsize = (10, 6))"
   ]
  },
  {
   "cell_type": "code",
   "execution_count": 76,
   "metadata": {},
   "outputs": [
    {
     "data": {
      "text/plain": [
       "Adult           0.196466\n",
       "Young Adult     0.180294\n",
       "Mature Adult    0.151767\n",
       "Middle Age      0.103399\n",
       "Baby            0.080338\n",
       "Senior          0.072701\n",
       "Child           0.067535\n",
       "Toddler         0.057727\n",
       "Teenager        0.056229\n",
       "Adolescent      0.033543\n",
       "Name: age group, dtype: float64"
      ]
     },
     "execution_count": 76,
     "metadata": {},
     "output_type": "execute_result"
    }
   ],
   "source": [
    "face_data['age group'].value_counts(normalize = True)"
   ]
  },
  {
   "cell_type": "code",
   "execution_count": null,
   "metadata": {},
   "outputs": [],
   "source": []
  },
  {
   "cell_type": "markdown",
   "metadata": {},
   "source": [
    "**Reduced Imbalance**\n",
    "\n",
    "While the dataset is still not well-balanced, we have reduced the imbalance quite significantly. For example, now adults take up only 19.6% of the dataset, and Adolescents take up 3.3%. This is much improved compared to 32.2% and 2.6% previously."
   ]
  },
  {
   "cell_type": "markdown",
   "metadata": {},
   "source": [
    "### 3.3 Feature Engineering\n",
    "\n",
    "While the image name is given in the CSV, the full filename is not given. However, we can construct the full filename from the other columns in the CSV.\n",
    "\n",
    "Our age-groups will be our target-variable in our modelling later, but we will change it to ordinal labels for better evaluation."
   ]
  },
  {
   "cell_type": "code",
   "execution_count": 77,
   "metadata": {},
   "outputs": [],
   "source": [
    "face_data.reset_index(drop = True, inplace = True)"
   ]
  },
  {
   "cell_type": "code",
   "execution_count": 78,
   "metadata": {},
   "outputs": [
    {
     "data": {
      "text/plain": [
       "13356"
      ]
     },
     "execution_count": 78,
     "metadata": {},
     "output_type": "execute_result"
    }
   ],
   "source": [
    "filenames = []\n",
    "\n",
    "for i, row in face_data.iterrows():\n",
    "        \n",
    "    file = str(row[0]) + '_' + str(row[2]) + '_' + str(row[1]) + '_' + str(row[3])\n",
    "\n",
    "    filenames.append(file)\n",
    "        \n",
    "len(filenames)"
   ]
  },
  {
   "cell_type": "code",
   "execution_count": 79,
   "metadata": {},
   "outputs": [
    {
     "data": {
      "text/plain": [
       "(13356, 5)"
      ]
     },
     "execution_count": 79,
     "metadata": {},
     "output_type": "execute_result"
    }
   ],
   "source": [
    "face_data.shape"
   ]
  },
  {
   "cell_type": "code",
   "execution_count": 80,
   "metadata": {},
   "outputs": [],
   "source": [
    "face_data['Filename'] = filenames"
   ]
  },
  {
   "cell_type": "code",
   "execution_count": 81,
   "metadata": {},
   "outputs": [
    {
     "data": {
      "text/html": [
       "<div>\n",
       "<style scoped>\n",
       "    .dataframe tbody tr th:only-of-type {\n",
       "        vertical-align: middle;\n",
       "    }\n",
       "\n",
       "    .dataframe tbody tr th {\n",
       "        vertical-align: top;\n",
       "    }\n",
       "\n",
       "    .dataframe thead th {\n",
       "        text-align: right;\n",
       "    }\n",
       "</style>\n",
       "<table border=\"1\" class=\"dataframe\">\n",
       "  <thead>\n",
       "    <tr style=\"text-align: right;\">\n",
       "      <th></th>\n",
       "      <th>age</th>\n",
       "      <th>ethnicity</th>\n",
       "      <th>gender</th>\n",
       "      <th>img_name</th>\n",
       "      <th>age group</th>\n",
       "      <th>Filename</th>\n",
       "    </tr>\n",
       "  </thead>\n",
       "  <tbody>\n",
       "    <tr>\n",
       "      <th>0</th>\n",
       "      <td>1</td>\n",
       "      <td>2</td>\n",
       "      <td>0</td>\n",
       "      <td>20161219203650636.jpg.chip.jpg</td>\n",
       "      <td>Baby</td>\n",
       "      <td>1_0_2_20161219203650636.jpg.chip.jpg</td>\n",
       "    </tr>\n",
       "    <tr>\n",
       "      <th>1</th>\n",
       "      <td>1</td>\n",
       "      <td>2</td>\n",
       "      <td>0</td>\n",
       "      <td>20161219222752047.jpg.chip.jpg</td>\n",
       "      <td>Baby</td>\n",
       "      <td>1_0_2_20161219222752047.jpg.chip.jpg</td>\n",
       "    </tr>\n",
       "    <tr>\n",
       "      <th>2</th>\n",
       "      <td>1</td>\n",
       "      <td>2</td>\n",
       "      <td>0</td>\n",
       "      <td>20161219222832191.jpg.chip.jpg</td>\n",
       "      <td>Baby</td>\n",
       "      <td>1_0_2_20161219222832191.jpg.chip.jpg</td>\n",
       "    </tr>\n",
       "    <tr>\n",
       "      <th>3</th>\n",
       "      <td>1</td>\n",
       "      <td>2</td>\n",
       "      <td>0</td>\n",
       "      <td>20161220144911423.jpg.chip.jpg</td>\n",
       "      <td>Baby</td>\n",
       "      <td>1_0_2_20161220144911423.jpg.chip.jpg</td>\n",
       "    </tr>\n",
       "    <tr>\n",
       "      <th>4</th>\n",
       "      <td>1</td>\n",
       "      <td>2</td>\n",
       "      <td>0</td>\n",
       "      <td>20161220144914327.jpg.chip.jpg</td>\n",
       "      <td>Baby</td>\n",
       "      <td>1_0_2_20161220144914327.jpg.chip.jpg</td>\n",
       "    </tr>\n",
       "  </tbody>\n",
       "</table>\n",
       "</div>"
      ],
      "text/plain": [
       "   age  ethnicity  gender                        img_name age group  \\\n",
       "0    1          2       0  20161219203650636.jpg.chip.jpg      Baby   \n",
       "1    1          2       0  20161219222752047.jpg.chip.jpg      Baby   \n",
       "2    1          2       0  20161219222832191.jpg.chip.jpg      Baby   \n",
       "3    1          2       0  20161220144911423.jpg.chip.jpg      Baby   \n",
       "4    1          2       0  20161220144914327.jpg.chip.jpg      Baby   \n",
       "\n",
       "                               Filename  \n",
       "0  1_0_2_20161219203650636.jpg.chip.jpg  \n",
       "1  1_0_2_20161219222752047.jpg.chip.jpg  \n",
       "2  1_0_2_20161219222832191.jpg.chip.jpg  \n",
       "3  1_0_2_20161220144911423.jpg.chip.jpg  \n",
       "4  1_0_2_20161220144914327.jpg.chip.jpg  "
      ]
     },
     "execution_count": 81,
     "metadata": {},
     "output_type": "execute_result"
    }
   ],
   "source": [
    "face_data.head()"
   ]
  },
  {
   "cell_type": "code",
   "execution_count": 82,
   "metadata": {},
   "outputs": [],
   "source": [
    "face_data.drop(columns = ['img_name'], inplace = True)"
   ]
  },
  {
   "cell_type": "code",
   "execution_count": 83,
   "metadata": {},
   "outputs": [],
   "source": [
    "age_groups = ['Baby', 'Toddler', 'Child', 'Adolescent', 'Teenager',\n",
    "              'Young Adult', 'Adult', 'Mature Adult', 'Middle Age', 'Senior']"
   ]
  },
  {
   "cell_type": "code",
   "execution_count": 84,
   "metadata": {},
   "outputs": [
    {
     "data": {
      "text/plain": [
       "1"
      ]
     },
     "execution_count": 84,
     "metadata": {},
     "output_type": "execute_result"
    }
   ],
   "source": [
    "age_groups.index('Toddler')"
   ]
  },
  {
   "cell_type": "code",
   "execution_count": 85,
   "metadata": {},
   "outputs": [
    {
     "data": {
      "text/plain": [
       "array(['Baby', 'Adolescent', 'Teenager', 'Young Adult', 'Toddler',\n",
       "       'Adult', 'Mature Adult', 'Child', 'Middle Age', 'Senior'],\n",
       "      dtype=object)"
      ]
     },
     "execution_count": 85,
     "metadata": {},
     "output_type": "execute_result"
    }
   ],
   "source": [
    "face_data['age group'].unique()"
   ]
  },
  {
   "cell_type": "code",
   "execution_count": 86,
   "metadata": {},
   "outputs": [],
   "source": [
    "def age_labeler(age_group):\n",
    "    \n",
    "    label = age_groups.index(age_group)\n",
    "    \n",
    "    return label"
   ]
  },
  {
   "cell_type": "code",
   "execution_count": 87,
   "metadata": {},
   "outputs": [],
   "source": [
    "face_data['age label'] = face_data['age group'].apply(age_labeler)"
   ]
  },
  {
   "cell_type": "code",
   "execution_count": 88,
   "metadata": {},
   "outputs": [
    {
     "data": {
      "text/html": [
       "<div>\n",
       "<style scoped>\n",
       "    .dataframe tbody tr th:only-of-type {\n",
       "        vertical-align: middle;\n",
       "    }\n",
       "\n",
       "    .dataframe tbody tr th {\n",
       "        vertical-align: top;\n",
       "    }\n",
       "\n",
       "    .dataframe thead th {\n",
       "        text-align: right;\n",
       "    }\n",
       "</style>\n",
       "<table border=\"1\" class=\"dataframe\">\n",
       "  <thead>\n",
       "    <tr style=\"text-align: right;\">\n",
       "      <th></th>\n",
       "      <th>age</th>\n",
       "      <th>ethnicity</th>\n",
       "      <th>gender</th>\n",
       "      <th>age group</th>\n",
       "      <th>Filename</th>\n",
       "      <th>age label</th>\n",
       "    </tr>\n",
       "  </thead>\n",
       "  <tbody>\n",
       "    <tr>\n",
       "      <th>5022</th>\n",
       "      <td>24</td>\n",
       "      <td>1</td>\n",
       "      <td>1</td>\n",
       "      <td>Young Adult</td>\n",
       "      <td>24_1_1_20170115234919997.jpg.chip.jpg</td>\n",
       "      <td>5</td>\n",
       "    </tr>\n",
       "    <tr>\n",
       "      <th>2208</th>\n",
       "      <td>19</td>\n",
       "      <td>3</td>\n",
       "      <td>1</td>\n",
       "      <td>Young Adult</td>\n",
       "      <td>19_1_3_20170104223253815.jpg.chip.jpg</td>\n",
       "      <td>5</td>\n",
       "    </tr>\n",
       "    <tr>\n",
       "      <th>10210</th>\n",
       "      <td>44</td>\n",
       "      <td>1</td>\n",
       "      <td>0</td>\n",
       "      <td>Mature Adult</td>\n",
       "      <td>44_0_1_20170117142003663.jpg.chip.jpg</td>\n",
       "      <td>7</td>\n",
       "    </tr>\n",
       "    <tr>\n",
       "      <th>3675</th>\n",
       "      <td>22</td>\n",
       "      <td>0</td>\n",
       "      <td>1</td>\n",
       "      <td>Young Adult</td>\n",
       "      <td>22_1_0_20170112192301390.jpg.chip.jpg</td>\n",
       "      <td>5</td>\n",
       "    </tr>\n",
       "    <tr>\n",
       "      <th>10794</th>\n",
       "      <td>5</td>\n",
       "      <td>2</td>\n",
       "      <td>1</td>\n",
       "      <td>Child</td>\n",
       "      <td>5_1_2_20170109193543217.jpg.chip.jpg</td>\n",
       "      <td>2</td>\n",
       "    </tr>\n",
       "  </tbody>\n",
       "</table>\n",
       "</div>"
      ],
      "text/plain": [
       "       age  ethnicity  gender     age group  \\\n",
       "5022    24          1       1   Young Adult   \n",
       "2208    19          3       1   Young Adult   \n",
       "10210   44          1       0  Mature Adult   \n",
       "3675    22          0       1   Young Adult   \n",
       "10794    5          2       1         Child   \n",
       "\n",
       "                                    Filename  age label  \n",
       "5022   24_1_1_20170115234919997.jpg.chip.jpg          5  \n",
       "2208   19_1_3_20170104223253815.jpg.chip.jpg          5  \n",
       "10210  44_0_1_20170117142003663.jpg.chip.jpg          7  \n",
       "3675   22_1_0_20170112192301390.jpg.chip.jpg          5  \n",
       "10794   5_1_2_20170109193543217.jpg.chip.jpg          2  "
      ]
     },
     "execution_count": 88,
     "metadata": {},
     "output_type": "execute_result"
    }
   ],
   "source": [
    "face_data.sample(5)"
   ]
  },
  {
   "cell_type": "code",
   "execution_count": 89,
   "metadata": {},
   "outputs": [],
   "source": [
    "face_data.to_csv('Data/age_gender_filtered.csv', index = False)"
   ]
  },
  {
   "cell_type": "code",
   "execution_count": null,
   "metadata": {},
   "outputs": [],
   "source": []
  }
 ],
 "metadata": {
  "kernelspec": {
   "display_name": "Python 3",
   "language": "python",
   "name": "python3"
  },
  "language_info": {
   "codemirror_mode": {
    "name": "ipython",
    "version": 3
   },
   "file_extension": ".py",
   "mimetype": "text/x-python",
   "name": "python",
   "nbconvert_exporter": "python",
   "pygments_lexer": "ipython3",
   "version": "3.8.5"
  }
 },
 "nbformat": 4,
 "nbformat_minor": 4
}
